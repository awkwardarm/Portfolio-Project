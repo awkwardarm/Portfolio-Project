{
 "cells": [
  {
   "cell_type": "code",
   "execution_count": 43,
   "metadata": {},
   "outputs": [],
   "source": [
    "import pandas as pd\n",
    "import numpy as np\n",
    "from pandas_schema import pandas_schema"
   ]
  },
  {
   "cell_type": "code",
   "execution_count": 3,
   "metadata": {},
   "outputs": [],
   "source": [
    "columns = list(pandas_schema.keys())\n",
    "datatypes = list(pandas_schema.values())\n",
    "schema_list = list(zip(columns, datatypes))\n",
    "#file_path = '/Users/matthewtryba/Desktop/subsampled_data.csv'\n",
    "file_path = \"Y:\\\\FannieMaeMortgageData\\\\subsampled_data_00125.csv\"\n",
    "sf_loan_performance = pd.read_csv(file_path, sep='|', header=None, names=columns, low_memory=False)"
   ]
  },
  {
   "cell_type": "markdown",
   "metadata": {},
   "source": [
    "## Pre-Processing"
   ]
  },
  {
   "cell_type": "code",
   "execution_count": 5,
   "metadata": {},
   "outputs": [],
   "source": [
    "def get_indices_by_type(schema_list):\n",
    "    \"\"\"\n",
    "    Creates dictionary of set of datatypes in pandas_schema\n",
    "    \"\"\"\n",
    "    indices_by_type = {datatype:[] for datatype in list(set(pandas_schema.values()))}\n",
    "\n",
    "    for key,_ in indices_by_type.items():\n",
    "        for i,_ in enumerate(schema_list):\n",
    "            if key in schema_list[i][1]:\n",
    "                indices_by_type[key].append(i)\n",
    "    \n",
    "    return indices_by_type\n",
    "\n",
    "\n",
    "def process_dates(df, indices_by_type):\n",
    "    \"\"\"\n",
    "    Converts date columns from MMYYYY to YYYY-MM-DD format, safely handling NaN values.\n",
    "    :param df: DataFrame with data.\n",
    "    :param indices_by_type: Dictionary with 'datetime64[ns]' key pointing to list of column indices.\n",
    "    \"\"\"\n",
    "    error_col_indices = []\n",
    "\n",
    "    for col in indices_by_type['datetime64[ns]']:\n",
    "        try:\n",
    "            # Direct conversion to string and zero-filling\n",
    "            df.iloc[:, col] = df.iloc[:, col].astype(str).str.zfill(6)\n",
    "\n",
    "            # Convert to datetime format, specifying the original format to speed up parsing\n",
    "            df.iloc[:, col] = pd.to_datetime(df.iloc[:, col], format='%m%Y', errors='coerce')\n",
    "        \n",
    "        except ValueError:\n",
    "            error_col_indices.append(col)\n",
    "        \n",
    "    # Optionally, log errors (if frequent):\n",
    "    # if error_col_indices:\n",
    "    #     print(f'Errors on columns  {error_col_indices}')\n",
    "    \n",
    "    return df\n",
    "\n",
    "\n",
    "def preprocess_booleans(df, indices_by_type):\n",
    "    \"\"\"\n",
    "    Converts columns with \"Y\" and \"N\" values to boolean. All other values are set to NULL.\n",
    "    :param df: DataFrame with data.\n",
    "    :param bool_columns: List of columns indices to be converted.\n",
    "    \"\"\"\n",
    "    for col in indices_by_type['bool']:\n",
    "        df.iloc[:,col] = df.iloc[:,col].apply(convert_to_bool)\n",
    "\n",
    "    return df\n",
    "\n",
    "\n",
    "def convert_to_bool(x):\n",
    "    if x == 'N' or x == 'n':\n",
    "        return False\n",
    "    elif x == \"Y\" or x == 'y':\n",
    "        return True\n",
    "    else:\n",
    "        return None    "
   ]
  },
  {
   "cell_type": "code",
   "execution_count": 52,
   "metadata": {},
   "outputs": [
    {
     "name": "stdout",
     "output_type": "stream",
     "text": [
      "{'Reference_Pool_ID': 'object', 'Loan_Identifier': 'object', 'Monthly_Reporting_Period': 'datetime64[ns]', 'Channel': 'object', 'Seller_Name': 'object', 'Servicer_Name': 'object', 'Master_Servicer': 'object', 'Origination_Date': 'datetime64[ns]', 'First_Payment_Date': 'datetime64[ns]', 'Maturity_Date': 'datetime64[ns]', 'First_Time_Home_Buyer_Indicator': 'object', 'Loan_Purpose': 'object', 'Property_Type': 'object', 'Occupancy_Status': 'object', 'Property_State': 'object', 'Zip_Code_Short': 'object', 'Amortization_Type': 'object', 'Prepayment_Penalty_Indicator': 'bool', 'Interest_Only_Loan_Indicator': 'bool', 'Interest_Only_First_Principal_And_Interest_Payment_Date': 'datetime64[ns]', 'Current_Loan_Delinquency_Status': 'object', 'Loan_Payment_History': 'object', 'Modification_Flag': 'bool', 'Mortgage_Insurance_Cancellation_Indicator': 'bool', 'Zero_Balance_Code': 'object', 'Zero_Balance_Effective_Date': 'datetime64[ns]', 'Repurchase_Date': 'datetime64[ns]', 'Last_Paid_Installment_Date': 'datetime64[ns]', 'Foreclosure_Date': 'datetime64[ns]', 'Disposition_Date': 'datetime64[ns]', 'Original_List_Start_Date': 'datetime64[ns]', 'Current_List_Start_Date': 'datetime64[ns]', 'Mortgage_Insurance_Type': 'object', 'Servicing_Activity_Indicator': 'bool', 'Special_Eligibility_Program': 'object', 'Relocation_Mortgage_Indicator': 'bool', 'Zero_Balance_Code_Change_Date': 'datetime64[ns]', 'Loan_Holdback_Indicator': 'bool', 'Loan_Holdback_Effective_Date': 'datetime64[ns]', 'Property_Valuation_Method': 'object', 'High_Balance_Loan_Indicator': 'bool', 'ARM_Initial_Fixed_Rate_Period_5YR_or_Less_Indicator': 'bool', 'ARM_Product_Type': 'object', 'Next_Interest_Rate_Adjustment_Date': 'datetime64[ns]', 'Next_Payment_Change_Date': 'datetime64[ns]', 'Loan_Index': 'object', 'ARM_Cap_Structure': 'object', 'ARM_Balloon_Indicator': 'bool', 'Borrower_Assistance_Plan': 'object', 'High_Loan_to_Value_HLTV_Refinance_Option_Indicator': 'bool', 'Deal_Name': 'object', 'Repurchase_Make_Whole_Proceeds_Flag': 'bool', 'Alternative_Delinquency_Resolution': 'object', 'Payment_Deferral_Modification_Event_Indicator': 'object'}\n"
     ]
    }
   ],
   "source": [
    "indices_by_type = get_indices_by_type(schema_list)\n",
    "process_dates(sf_loan_performance, indices_by_type)\n",
    "preprocess_booleans(sf_loan_performance, indices_by_type)\n",
    "\n",
    "# Create dictionary of non-numeric features to be used in .astype\n",
    "non_numeric_schema = {}\n",
    "for key, value in pandas_schema.items():\n",
    "    if value not in ['float64', 'int64', 'Int64']:\n",
    "        non_numeric_schema[key] = value\n",
    "\n",
    "# Set schema for non-numeric features\n",
    "sf_loan_performance.astype(non_numeric_schema)"
   ]
  },
  {
   "cell_type": "code",
   "execution_count": null,
   "metadata": {},
   "outputs": [],
   "source": []
  },
  {
   "cell_type": "code",
   "execution_count": null,
   "metadata": {},
   "outputs": [],
   "source": []
  }
 ],
 "metadata": {
  "kernelspec": {
   "display_name": "tryba-env",
   "language": "python",
   "name": "python3"
  },
  "language_info": {
   "codemirror_mode": {
    "name": "ipython",
    "version": 3
   },
   "file_extension": ".py",
   "mimetype": "text/x-python",
   "name": "python",
   "nbconvert_exporter": "python",
   "pygments_lexer": "ipython3",
   "version": "3.10.13"
  }
 },
 "nbformat": 4,
 "nbformat_minor": 2
}
