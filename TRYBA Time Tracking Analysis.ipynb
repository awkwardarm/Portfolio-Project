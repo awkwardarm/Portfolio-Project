{
 "cells": [
  {
   "cell_type": "code",
   "execution_count": 1,
   "metadata": {},
   "outputs": [],
   "source": [
    "import pandas as pd\n",
    "from matplotlib import pyplot as plt\n",
    "import numpy as np\n",
    "import seaborn as sns\n",
    "from scipy.stats import pearsonr"
   ]
  },
  {
   "cell_type": "markdown",
   "metadata": {},
   "source": [
    "# Data Import and Cleanup"
   ]
  },
  {
   "cell_type": "code",
   "execution_count": 2,
   "metadata": {},
   "outputs": [
    {
     "name": "stdout",
     "output_type": "stream",
     "text": [
      "<class 'pandas.core.frame.DataFrame'>\n",
      "Int64Index: 8186 entries, 1 to 16371\n",
      "Data columns (total 5 columns):\n",
      " #   Column    Non-Null Count  Dtype         \n",
      "---  ------    --------------  -----         \n",
      " 0   activity  8186 non-null   object        \n",
      " 1   datetime  8186 non-null   datetime64[ns]\n",
      " 2   hours     8186 non-null   float64       \n",
      " 3   client    2115 non-null   object        \n",
      " 4   project   2115 non-null   object        \n",
      "dtypes: datetime64[ns](1), float64(1), object(3)\n",
      "memory usage: 383.7+ KB\n"
     ]
    }
   ],
   "source": [
    "time_tracking = pd.read_csv('time_tracking.csv')\n",
    "\n",
    "# clean up\n",
    "time_tracking = time_tracking[time_tracking['state'].str.lower() == 'stopped']\n",
    "time_tracking['datetime'] = time_tracking['datetime'].astype('datetime64')\n",
    "time_tracking = time_tracking[['activity','datetime', 'hours', 'client', 'project']]\n",
    "\n",
    "time_tracking.info()"
   ]
  },
  {
   "cell_type": "code",
   "execution_count": 3,
   "metadata": {},
   "outputs": [
    {
     "data": {
      "text/html": [
       "<div>\n",
       "<style scoped>\n",
       "    .dataframe tbody tr th:only-of-type {\n",
       "        vertical-align: middle;\n",
       "    }\n",
       "\n",
       "    .dataframe tbody tr th {\n",
       "        vertical-align: top;\n",
       "    }\n",
       "\n",
       "    .dataframe thead th {\n",
       "        text-align: right;\n",
       "    }\n",
       "</style>\n",
       "<table border=\"1\" class=\"dataframe\">\n",
       "  <thead>\n",
       "    <tr style=\"text-align: right;\">\n",
       "      <th></th>\n",
       "      <th>activity</th>\n",
       "      <th>datetime</th>\n",
       "      <th>hours</th>\n",
       "      <th>client</th>\n",
       "      <th>project</th>\n",
       "    </tr>\n",
       "  </thead>\n",
       "  <tbody>\n",
       "    <tr>\n",
       "      <th>1</th>\n",
       "      <td>Client Production</td>\n",
       "      <td>2016-11-08 14:51:00</td>\n",
       "      <td>1.58</td>\n",
       "      <td>NaN</td>\n",
       "      <td>NaN</td>\n",
       "    </tr>\n",
       "    <tr>\n",
       "      <th>3</th>\n",
       "      <td>Client Production</td>\n",
       "      <td>2016-11-08 16:40:00</td>\n",
       "      <td>1.53</td>\n",
       "      <td>NaN</td>\n",
       "      <td>NaN</td>\n",
       "    </tr>\n",
       "    <tr>\n",
       "      <th>5</th>\n",
       "      <td>Client Production</td>\n",
       "      <td>2016-11-09 13:18:00</td>\n",
       "      <td>1.50</td>\n",
       "      <td>NaN</td>\n",
       "      <td>NaN</td>\n",
       "    </tr>\n",
       "    <tr>\n",
       "      <th>7</th>\n",
       "      <td>Client Production</td>\n",
       "      <td>2016-11-09 15:18:00</td>\n",
       "      <td>1.55</td>\n",
       "      <td>NaN</td>\n",
       "      <td>NaN</td>\n",
       "    </tr>\n",
       "    <tr>\n",
       "      <th>9</th>\n",
       "      <td>Client Production</td>\n",
       "      <td>2016-11-11 13:06:00</td>\n",
       "      <td>1.50</td>\n",
       "      <td>NaN</td>\n",
       "      <td>NaN</td>\n",
       "    </tr>\n",
       "  </tbody>\n",
       "</table>\n",
       "</div>"
      ],
      "text/plain": [
       "            activity            datetime  hours client project\n",
       "1  Client Production 2016-11-08 14:51:00   1.58    NaN     NaN\n",
       "3  Client Production 2016-11-08 16:40:00   1.53    NaN     NaN\n",
       "5  Client Production 2016-11-09 13:18:00   1.50    NaN     NaN\n",
       "7  Client Production 2016-11-09 15:18:00   1.55    NaN     NaN\n",
       "9  Client Production 2016-11-11 13:06:00   1.50    NaN     NaN"
      ]
     },
     "execution_count": 3,
     "metadata": {},
     "output_type": "execute_result"
    }
   ],
   "source": [
    "time_tracking.head()"
   ]
  },
  {
   "cell_type": "markdown",
   "metadata": {},
   "source": [
    "# Exploratory Data Analysis"
   ]
  },
  {
   "cell_type": "code",
   "execution_count": 4,
   "metadata": {},
   "outputs": [
    {
     "name": "stdout",
     "output_type": "stream",
     "text": [
      "8244.09\n"
     ]
    }
   ],
   "source": [
    "total_hours = time_tracking['hours'].sum()\n",
    "print(total_hours)"
   ]
  },
  {
   "cell_type": "code",
   "execution_count": 5,
   "metadata": {},
   "outputs": [],
   "source": [
    "business_activities = ['Client Production', 'Meridian Quake', 'Spec', 'Admin', 'Sound Design', 'Engineering', \n",
    "                       'Practicing', 'Edu Data Science', 'Programming Portfolio', 'Brilliant', 'Employer Hunt']\n",
    "time_tracking_business = time_tracking[time_tracking['activity'].isin(business_activities)]"
   ]
  },
  {
   "cell_type": "code",
   "execution_count": 6,
   "metadata": {},
   "outputs": [
    {
     "data": {
      "text/html": [
       "<div>\n",
       "<style scoped>\n",
       "    .dataframe tbody tr th:only-of-type {\n",
       "        vertical-align: middle;\n",
       "    }\n",
       "\n",
       "    .dataframe tbody tr th {\n",
       "        vertical-align: top;\n",
       "    }\n",
       "\n",
       "    .dataframe thead th {\n",
       "        text-align: right;\n",
       "    }\n",
       "</style>\n",
       "<table border=\"1\" class=\"dataframe\">\n",
       "  <thead>\n",
       "    <tr style=\"text-align: right;\">\n",
       "      <th></th>\n",
       "      <th>activity</th>\n",
       "      <th>total_hours</th>\n",
       "    </tr>\n",
       "  </thead>\n",
       "  <tbody>\n",
       "    <tr>\n",
       "      <th>2</th>\n",
       "      <td>Client Production</td>\n",
       "      <td>4151.00</td>\n",
       "    </tr>\n",
       "    <tr>\n",
       "      <th>6</th>\n",
       "      <td>Meridian Quake</td>\n",
       "      <td>1555.38</td>\n",
       "    </tr>\n",
       "    <tr>\n",
       "      <th>10</th>\n",
       "      <td>Spec</td>\n",
       "      <td>1049.80</td>\n",
       "    </tr>\n",
       "    <tr>\n",
       "      <th>0</th>\n",
       "      <td>Admin</td>\n",
       "      <td>716.36</td>\n",
       "    </tr>\n",
       "    <tr>\n",
       "      <th>9</th>\n",
       "      <td>Sound Design</td>\n",
       "      <td>230.36</td>\n",
       "    </tr>\n",
       "    <tr>\n",
       "      <th>5</th>\n",
       "      <td>Engineering</td>\n",
       "      <td>224.02</td>\n",
       "    </tr>\n",
       "    <tr>\n",
       "      <th>3</th>\n",
       "      <td>Edu Data Science</td>\n",
       "      <td>145.38</td>\n",
       "    </tr>\n",
       "    <tr>\n",
       "      <th>7</th>\n",
       "      <td>Practicing</td>\n",
       "      <td>122.17</td>\n",
       "    </tr>\n",
       "    <tr>\n",
       "      <th>8</th>\n",
       "      <td>Programming Portfolio</td>\n",
       "      <td>19.46</td>\n",
       "    </tr>\n",
       "    <tr>\n",
       "      <th>1</th>\n",
       "      <td>Brilliant</td>\n",
       "      <td>13.06</td>\n",
       "    </tr>\n",
       "    <tr>\n",
       "      <th>4</th>\n",
       "      <td>Employer Hunt</td>\n",
       "      <td>2.93</td>\n",
       "    </tr>\n",
       "  </tbody>\n",
       "</table>\n",
       "</div>"
      ],
      "text/plain": [
       "                 activity  total_hours\n",
       "2       Client Production      4151.00\n",
       "6          Meridian Quake      1555.38\n",
       "10                   Spec      1049.80\n",
       "0                   Admin       716.36\n",
       "9            Sound Design       230.36\n",
       "5             Engineering       224.02\n",
       "3        Edu Data Science       145.38\n",
       "7              Practicing       122.17\n",
       "8   Programming Portfolio        19.46\n",
       "1               Brilliant        13.06\n",
       "4           Employer Hunt         2.93"
      ]
     },
     "execution_count": 6,
     "metadata": {},
     "output_type": "execute_result"
    }
   ],
   "source": [
    "activity_total_hours = time_tracking_business.groupby('activity').hours.sum().reset_index(name='total_hours')\n",
    "activity_total_hours = activity_total_hours.sort_values(by='total_hours', ascending=False)\n",
    "activity_total_hours.head(20)"
   ]
  },
  {
   "cell_type": "code",
   "execution_count": 7,
   "metadata": {},
   "outputs": [
    {
     "data": {
      "image/png": "[encoded data removed]",
      "text/plain": [
       "<Figure size 1000x800 with 1 Axes>"
      ]
     },
     "metadata": {},
     "output_type": "display_data"
    }
   ],
   "source": [
    "# create figure\n",
    "plt.figure(figsize=(10,8))\n",
    "ax = plt.subplot()\n",
    "\n",
    "# Set the style of seaborn\n",
    "sns.set(style=\"whitegrid\")\n",
    "\n",
    "# Choose a colorblind-friendly palette\n",
    "palette = sns.color_palette(\"colorblind\", n_colors=len(activity_total_hours))\n",
    "\n",
    "# Create the bar plot with the chosen palette\n",
    "sns.barplot(x='activity', y='total_hours', data=activity_total_hours, palette=palette)\n",
    "plt.xticks(rotation=45)\n",
    "plt.xlabel('Activity')\n",
    "plt.ylabel('Total Hours')\n",
    "plt.title('Total Hours for Each Activity')\n",
    "plt.tight_layout()  # Ensures that labels and titles fit within the plot area\n",
    "plt.show()"
   ]
  },
  {
   "cell_type": "code",
   "execution_count": null,
   "metadata": {},
   "outputs": [],
   "source": []
  }
 ],
 "metadata": {
  "kernelspec": {
   "display_name": "base",
   "language": "python",
   "name": "python3"
  },
  "language_info": {
   "codemirror_mode": {
    "name": "ipython",
    "version": 3
   },
   "file_extension": ".py",
   "mimetype": "text/x-python",
   "name": "python",
   "nbconvert_exporter": "python",
   "pygments_lexer": "ipython3",
   "version": "3.11.4"
  },
  "orig_nbformat": 4
 },
 "nbformat": 4,
 "nbformat_minor": 2
}
