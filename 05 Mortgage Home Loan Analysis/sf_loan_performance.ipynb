{
 "cells": [
  {
   "cell_type": "code",
   "execution_count": 1,
   "metadata": {},
   "outputs": [],
   "source": [
    "import pandas as pd\n",
    "import numpy as np\n",
    "from pandas_schema import pandas_schema"
   ]
  },
  {
   "cell_type": "code",
   "execution_count": 2,
   "metadata": {},
   "outputs": [],
   "source": [
    "columns = list(pandas_schema.keys())\n",
    "datatypes = list(pandas_schema.values())\n",
    "schema_list = list(zip(columns, datatypes))\n",
    "file_path = '/Users/matthewtryba/Desktop/subsampled_data_0.1225_pct_.csv'\n",
    "#file_path = \"Y:\\\\FannieMaeMortgageData\\\\subsampled_data_00125.csv\"\n",
    "sf_loan_performance = pd.read_csv(file_path, sep='|', header=None, names=columns, low_memory=False)"
   ]
  },
  {
   "cell_type": "code",
   "execution_count": null,
   "metadata": {},
   "outputs": [],
   "source": [
    "# # Check Column numbers against fannie-mae-loan-layout-and-glossary.pdf\n",
    "# i = 0\n",
    "# for col in columns:\n",
    "#     i+=1\n",
    "#     print(i, col)"
   ]
  },
  {
   "cell_type": "markdown",
   "metadata": {},
   "source": [
    "## ETL"
   ]
  },
  {
   "cell_type": "code",
   "execution_count": null,
   "metadata": {},
   "outputs": [],
   "source": [
    "def get_indices_by_type(schema_list):\n",
    "    \"\"\"\n",
    "    Creates dictionary of set of datatypes in pandas_schema\n",
    "    \"\"\"\n",
    "    indices_by_type = {datatype:[] for datatype in list(set(pandas_schema.values()))}\n",
    "\n",
    "    for key,_ in indices_by_type.items():\n",
    "        for i,_ in enumerate(schema_list):\n",
    "            if key in schema_list[i][1]:\n",
    "                indices_by_type[key].append(i)\n",
    "    \n",
    "    return indices_by_type\n",
    "\n",
    "\n",
    "def process_dates(df, indices_by_type):\n",
    "    \"\"\"\n",
    "    Converts date columns from MMYYYY to YYYY-MM-DD format, safely handling NaN values.\n",
    "    :param df: DataFrame with data.\n",
    "    :param indices_by_type: Dictionary with 'datetime64[ns]' key pointing to list of column indices.\n",
    "    \"\"\"\n",
    "    error_col_indices = []\n",
    "\n",
    "    for col in indices_by_type['datetime64[ns]']:\n",
    "        try:\n",
    "            # Direct conversion to string and zero-filling\n",
    "            df.iloc[:, col] = df.iloc[:, col].astype(str).str.zfill(6)\n",
    "\n",
    "            # Convert to datetime format, specifying the original format to speed up parsing\n",
    "            df.iloc[:, col] = pd.to_datetime(df.iloc[:, col], format='%m%Y', errors='coerce')\n",
    "        \n",
    "        except ValueError:\n",
    "            error_col_indices.append(col)\n",
    "        \n",
    "    # Optionally, log errors (if frequent):\n",
    "    # if error_col_indices:\n",
    "    #     print(f'Errors on columns  {error_col_indices}')\n",
    "    \n",
    "    return df\n",
    "\n",
    "\n",
    "def preprocess_booleans(df, indices_by_type):\n",
    "    \"\"\"\n",
    "    Converts columns with \"Y\" and \"N\" values to boolean. All other values are set to NULL.\n",
    "    :param df: DataFrame with data.\n",
    "    :param bool_columns: List of columns indices to be converted.\n",
    "    \"\"\"\n",
    "    for col in indices_by_type['bool']:\n",
    "        df.iloc[:,col] = df.iloc[:,col].apply(convert_to_bool)\n",
    "\n",
    "    return df\n",
    "\n",
    "\n",
    "def convert_to_bool(x):\n",
    "    if x == 'N' or x == 'n':\n",
    "        return False\n",
    "    elif x == \"Y\" or x == 'y':\n",
    "        return True\n",
    "    else:\n",
    "        return None    "
   ]
  },
  {
   "cell_type": "code",
   "execution_count": null,
   "metadata": {},
   "outputs": [],
   "source": [
    "indices_by_type = get_indices_by_type(schema_list)\n",
    "process_dates(sf_loan_performance, indices_by_type)\n",
    "preprocess_booleans(sf_loan_performance, indices_by_type)\n",
    "\n",
    "# Create dictionary of non-numeric features to be used in .astype\n",
    "non_numeric_schema = {}\n",
    "for key, value in pandas_schema.items():\n",
    "    if value not in ['float64', 'int64', 'Int64']:\n",
    "        non_numeric_schema[key] = value\n",
    "\n",
    "# Set schema for non-numeric features\n",
    "sf_loan_performance.astype(non_numeric_schema)"
   ]
  },
  {
   "cell_type": "code",
   "execution_count": null,
   "metadata": {},
   "outputs": [],
   "source": [
    "# # Drop columns with 100% missing values\n",
    "# columns_to_drop = []\n",
    "\n",
    "# for col in sf_loan_performance.columns:\n",
    "\n",
    "#     # Check if total na values is equal to length of dataframe\n",
    "#     if sf_loan_performance[col].isna().sum() == sf_loan_performance.shape[0]:\n",
    "#         columns_to_drop.append(col)\n",
    "\n",
    "# sf_loan_performance.drop(columns=columns_to_drop, inplace=True)\n",
    "\n",
    "# # Drop duplicate Rows\n",
    "# sf_loan_performance.drop_duplicates(inplace=True)"
   ]
  },
  {
   "cell_type": "markdown",
   "metadata": {},
   "source": [
    "# Adding Taget Feature: Conditional Prepayment Rate (CPR)\n",
    "\n",
    "- Features to investigate:  \n",
    "    - Zero_Balance_Code\n",
    "\n"
   ]
  },
  {
   "cell_type": "code",
   "execution_count": null,
   "metadata": {},
   "outputs": [],
   "source": [
    "print(sf_loan_performance['Zero_Balance_Code'].dtype)"
   ]
  },
  {
   "cell_type": "code",
   "execution_count": null,
   "metadata": {},
   "outputs": [],
   "source": [
    "prepaid = sf_loan_performance[sf_loan_performance['Zero_Balance_Code'] == 1]\n",
    "\n",
    "sf_loan_performance['Zero_Balance_Code'].value_counts()"
   ]
  },
  {
   "cell_type": "markdown",
   "metadata": {},
   "source": [
    "# EDA"
   ]
  },
  {
   "cell_type": "code",
   "execution_count": null,
   "metadata": {},
   "outputs": [],
   "source": [
    "sf_loan_performance.describe()"
   ]
  },
  {
   "cell_type": "code",
   "execution_count": null,
   "metadata": {},
   "outputs": [],
   "source": []
  },
  {
   "cell_type": "code",
   "execution_count": null,
   "metadata": {},
   "outputs": [],
   "source": []
  }
 ],
 "metadata": {
  "kernelspec": {
   "display_name": "tryba-env",
   "language": "python",
   "name": "python3"
  },
  "language_info": {
   "codemirror_mode": {
    "name": "ipython",
    "version": 3
   },
   "file_extension": ".py",
   "mimetype": "text/x-python",
   "name": "python",
   "nbconvert_exporter": "python",
   "pygments_lexer": "ipython3",
   "version": "3.10.13"
  }
 },
 "nbformat": 4,
 "nbformat_minor": 2
}
