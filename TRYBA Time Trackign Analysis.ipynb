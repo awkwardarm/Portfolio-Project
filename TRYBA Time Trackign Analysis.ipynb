{
 "cells": [
  {
   "cell_type": "code",
   "execution_count": 18,
   "metadata": {},
   "outputs": [],
   "source": [
    "import pandas as pd\n",
    "from matplotlib import pyplot as plt\n",
    "import numpy as np\n",
    "import seaborn as sns\n",
    "from scipy.stats import pearsonr"
   ]
  },
  {
   "cell_type": "markdown",
   "metadata": {},
   "source": [
    "# Data Import and Cleanup"
   ]
  },
  {
   "cell_type": "code",
   "execution_count": 21,
   "metadata": {},
   "outputs": [
    {
     "name": "stdout",
     "output_type": "stream",
     "text": [
      "<class 'pandas.core.frame.DataFrame'>\n",
      "Int64Index: 8143 entries, 1 to 16285\n",
      "Data columns (total 5 columns):\n",
      " #   Column    Non-Null Count  Dtype         \n",
      "---  ------    --------------  -----         \n",
      " 0   activity  8143 non-null   category      \n",
      " 1   datetime  8143 non-null   datetime64[ns]\n",
      " 2   hours     8143 non-null   float64       \n",
      " 3   client    2100 non-null   object        \n",
      " 4   project   2100 non-null   object        \n",
      "dtypes: category(1), datetime64[ns](1), float64(1), object(2)\n",
      "memory usage: 326.7+ KB\n"
     ]
    }
   ],
   "source": [
    "time_tracking = pd.read_csv('time_tracking.csv')\n",
    "\n",
    "# clean up\n",
    "time_tracking = time_tracking[time_tracking['state'].str.lower() == 'stopped']\n",
    "time_tracking['datetime'] = time_tracking['datetime'].astype('datetime64')\n",
    "time_tracking['activity'] = time_tracking['activity'].astype('category')\n",
    "time_tracking = time_tracking[['activity','datetime', 'hours', 'client', 'project']]\n",
    "\n",
    "time_tracking.info()"
   ]
  },
  {
   "cell_type": "code",
   "execution_count": 20,
   "metadata": {},
   "outputs": [
    {
     "data": {
      "text/html": [
       "<div>\n",
       "<style scoped>\n",
       "    .dataframe tbody tr th:only-of-type {\n",
       "        vertical-align: middle;\n",
       "    }\n",
       "\n",
       "    .dataframe tbody tr th {\n",
       "        vertical-align: top;\n",
       "    }\n",
       "\n",
       "    .dataframe thead th {\n",
       "        text-align: right;\n",
       "    }\n",
       "</style>\n",
       "<table border=\"1\" class=\"dataframe\">\n",
       "  <thead>\n",
       "    <tr style=\"text-align: right;\">\n",
       "      <th></th>\n",
       "      <th>activity</th>\n",
       "      <th>datetime</th>\n",
       "      <th>hours</th>\n",
       "      <th>client</th>\n",
       "      <th>project</th>\n",
       "    </tr>\n",
       "  </thead>\n",
       "  <tbody>\n",
       "    <tr>\n",
       "      <th>1</th>\n",
       "      <td>Client Production</td>\n",
       "      <td>2016-11-08 14:51:00</td>\n",
       "      <td>1.58</td>\n",
       "      <td>NaN</td>\n",
       "      <td>NaN</td>\n",
       "    </tr>\n",
       "    <tr>\n",
       "      <th>3</th>\n",
       "      <td>Client Production</td>\n",
       "      <td>2016-11-08 16:40:00</td>\n",
       "      <td>1.53</td>\n",
       "      <td>NaN</td>\n",
       "      <td>NaN</td>\n",
       "    </tr>\n",
       "    <tr>\n",
       "      <th>5</th>\n",
       "      <td>Client Production</td>\n",
       "      <td>2016-11-09 13:18:00</td>\n",
       "      <td>1.50</td>\n",
       "      <td>NaN</td>\n",
       "      <td>NaN</td>\n",
       "    </tr>\n",
       "    <tr>\n",
       "      <th>7</th>\n",
       "      <td>Client Production</td>\n",
       "      <td>2016-11-09 15:18:00</td>\n",
       "      <td>1.55</td>\n",
       "      <td>NaN</td>\n",
       "      <td>NaN</td>\n",
       "    </tr>\n",
       "    <tr>\n",
       "      <th>9</th>\n",
       "      <td>Client Production</td>\n",
       "      <td>2016-11-11 13:06:00</td>\n",
       "      <td>1.50</td>\n",
       "      <td>NaN</td>\n",
       "      <td>NaN</td>\n",
       "    </tr>\n",
       "  </tbody>\n",
       "</table>\n",
       "</div>"
      ],
      "text/plain": [
       "            activity            datetime  hours client project\n",
       "1  Client Production 2016-11-08 14:51:00   1.58    NaN     NaN\n",
       "3  Client Production 2016-11-08 16:40:00   1.53    NaN     NaN\n",
       "5  Client Production 2016-11-09 13:18:00   1.50    NaN     NaN\n",
       "7  Client Production 2016-11-09 15:18:00   1.55    NaN     NaN\n",
       "9  Client Production 2016-11-11 13:06:00   1.50    NaN     NaN"
      ]
     },
     "execution_count": 20,
     "metadata": {},
     "output_type": "execute_result"
    }
   ],
   "source": [
    "time_tracking.head()"
   ]
  },
  {
   "cell_type": "markdown",
   "metadata": {},
   "source": [
    "# Exploratory Data Analysis"
   ]
  },
  {
   "cell_type": "code",
   "execution_count": null,
   "metadata": {},
   "outputs": [],
   "source": []
  }
 ],
 "metadata": {
  "kernelspec": {
   "display_name": "base",
   "language": "python",
   "name": "python3"
  },
  "language_info": {
   "codemirror_mode": {
    "name": "ipython",
    "version": 3
   },
   "file_extension": ".py",
   "mimetype": "text/x-python",
   "name": "python",
   "nbconvert_exporter": "python",
   "pygments_lexer": "ipython3",
   "version": "3.11.4"
  },
  "orig_nbformat": 4
 },
 "nbformat": 4,
 "nbformat_minor": 2
}
