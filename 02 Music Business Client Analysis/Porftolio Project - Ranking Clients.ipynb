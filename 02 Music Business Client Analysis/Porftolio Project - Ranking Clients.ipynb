{
 "cells": [
  {
   "cell_type": "code",
   "execution_count": 1,
   "metadata": {},
   "outputs": [],
   "source": [
    "import pandas as pd\n",
    "import numpy as np\n",
    "from scipy.stats import chi2_contingency\n",
    "from sklearn.model_selection import train_test_split\n",
    "from sklearn.preprocessing import MinMaxScaler\n",
    "from sklearn.model_selection import train_test_split\n",
    "from sklearn.neighbors import KNeighborsClassifier"
   ]
  },
  {
   "cell_type": "markdown",
   "metadata": {},
   "source": [
    "# Data Import"
   ]
  },
  {
   "cell_type": "code",
   "execution_count": 2,
   "metadata": {},
   "outputs": [],
   "source": [
    "# create dataframe\n",
    "project_hours = pd.read_csv('project_hours_scaled.csv')\n",
    "\n",
    "# change date columns to datetime\n",
    "project_hours[['fund_date', 'start_date', 'finish_date']] = project_hours[['fund_date', 'start_date', 'finish_date']].astype('datetime64[s]')\n",
    "\n",
    "# Cast id columns as integers\n",
    "project_hours[['client_id', 'project_id']] = project_hours[['client_id', 'project_id']].astype('int')"
   ]
  },
  {
   "cell_type": "markdown",
   "metadata": {},
   "source": [
    "# Exploratory Analysis"
   ]
  },
  {
   "cell_type": "markdown",
   "metadata": {},
   "source": [
    "## Classifying Top Clients and Ranking all Clients\n",
    "I'd like to determine a list of my top clients based on their average hourly rates and total revenue."
   ]
  },
  {
   "cell_type": "code",
   "execution_count": 3,
   "metadata": {},
   "outputs": [
    {
     "data": {
      "text/html": [
       "<div>\n",
       "<style scoped>\n",
       "    .dataframe tbody tr th:only-of-type {\n",
       "        vertical-align: middle;\n",
       "    }\n",
       "\n",
       "    .dataframe tbody tr th {\n",
       "        vertical-align: top;\n",
       "    }\n",
       "\n",
       "    .dataframe thead th {\n",
       "        text-align: right;\n",
       "    }\n",
       "</style>\n",
       "<table border=\"1\" class=\"dataframe\">\n",
       "  <thead>\n",
       "    <tr style=\"text-align: right;\">\n",
       "      <th></th>\n",
       "      <th>client_id</th>\n",
       "      <th>ranking</th>\n",
       "    </tr>\n",
       "  </thead>\n",
       "  <tbody>\n",
       "    <tr>\n",
       "      <th>0</th>\n",
       "      <td>18</td>\n",
       "      <td>1</td>\n",
       "    </tr>\n",
       "    <tr>\n",
       "      <th>1</th>\n",
       "      <td>14</td>\n",
       "      <td>2</td>\n",
       "    </tr>\n",
       "    <tr>\n",
       "      <th>2</th>\n",
       "      <td>72</td>\n",
       "      <td>3</td>\n",
       "    </tr>\n",
       "    <tr>\n",
       "      <th>3</th>\n",
       "      <td>6</td>\n",
       "      <td>4</td>\n",
       "    </tr>\n",
       "    <tr>\n",
       "      <th>4</th>\n",
       "      <td>51</td>\n",
       "      <td>5</td>\n",
       "    </tr>\n",
       "    <tr>\n",
       "      <th>5</th>\n",
       "      <td>40</td>\n",
       "      <td>6</td>\n",
       "    </tr>\n",
       "    <tr>\n",
       "      <th>6</th>\n",
       "      <td>37</td>\n",
       "      <td>7</td>\n",
       "    </tr>\n",
       "    <tr>\n",
       "      <th>7</th>\n",
       "      <td>41</td>\n",
       "      <td>8</td>\n",
       "    </tr>\n",
       "  </tbody>\n",
       "</table>\n",
       "</div>"
      ],
      "text/plain": [
       "   client_id  ranking\n",
       "0         18        1\n",
       "1         14        2\n",
       "2         72        3\n",
       "3          6        4\n",
       "4         51        5\n",
       "5         40        6\n",
       "6         37        7\n",
       "7         41        8"
      ]
     },
     "execution_count": 3,
     "metadata": {},
     "output_type": "execute_result"
    }
   ],
   "source": [
    "# Filtering and Sorting Top Clients\n",
    "\n",
    "# region Collecting Data\n",
    "\n",
    "# Create hourly_ratio column based on each projects ratio of all hourly \n",
    "project_hours['hourly_ratio'] = project_hours['project_hourly'].apply(lambda x: x/project_hours['project_hourly'].sum())\n",
    "\n",
    "# Create per_project_ratio column based on each projects ratio of income\n",
    "project_hours['per_project_ratio'] = project_hours['total_after_fees'].apply(lambda x: x/project_hours['total_after_fees'].sum())\n",
    "\n",
    "# Filter only finished projects that are time tracked\n",
    "finished_tracked_projects = project_hours[(project_hours['status'].str.lower() == 'done')\n",
    "                                            & (project_hours['spec_project'] == False)\n",
    "                                            & (project_hours['time_tracked'] == True)]\n",
    "\n",
    "# Aggregate function to group client_id and average their hourly and ratio of total per_project_ratio\n",
    "client_ranking = finished_tracked_projects.groupby('client_id').agg(\n",
    "    average_hourly_ratio=('hourly_ratio', 'mean'),  # Calculate the average of hourly_ratio\n",
    "    total_per_project_ratio=('per_project_ratio', 'sum')  # Calculate the sum of per_project_ratio\n",
    ").reset_index()\n",
    "\n",
    "# Use the rename method to alias column names\n",
    "client_ranking = client_ranking.rename(columns={\n",
    "    'average_hourly_ratio': 'client_hourly_average',\n",
    "    'total_per_project_ratio': 'client_project_revenue_ratio'\n",
    "})\n",
    "\n",
    "# endregion\n",
    "\n",
    "# region Categorize Percentiles\n",
    "\n",
    "# Set thresholds \n",
    "hourly_threshold_pct = 50\n",
    "per_project_threshold_pct = 75\n",
    "\n",
    "# Get 80th percentile values\n",
    "percentile_value_hourly = np.percentile(client_ranking['client_hourly_average'], hourly_threshold_pct)\n",
    "percentile_value_project = np.percentile(client_ranking['client_project_revenue_ratio'], per_project_threshold_pct)\n",
    "\n",
    "# Function to assign percentile labels to hourly\n",
    "def top_percentile_bool_hourly(value):\n",
    "    if np.percentile(value, hourly_threshold_pct) >= percentile_value_hourly:\n",
    "        return True\n",
    "    else:\n",
    "        return False\n",
    "\n",
    "# Function to assign percentile labels to projects\n",
    "def top_percentile_bool_project(value):\n",
    "    if np.percentile(value, per_project_threshold_pct) >= percentile_value_project:\n",
    "        return True\n",
    "    else:\n",
    "        return False\n",
    "\n",
    "# Categorize top_hourly_clients\n",
    "client_ranking['top_client_hourly'] = client_ranking['client_hourly_average'].apply(top_percentile_bool_hourly)\n",
    "\n",
    "# Categorize top_per_project_clients\n",
    "client_ranking['top_client_per_project'] = client_ranking['client_project_revenue_ratio'].apply(top_percentile_bool_project)\n",
    "\n",
    "# Assign percentile values for overall ratings\n",
    "percentiles = [25, 50, 75]\n",
    "percentile_values_hourly = np.percentile(client_ranking['client_hourly_average'], percentiles)\n",
    "\n",
    "# Function to assign percentile labels\n",
    "def assign_percentile_label_hourly(value):\n",
    "    percentile_x = np.percentile(value, hourly_threshold_pct)\n",
    "    if percentile_x <= percentile_values_hourly[0]:\n",
    "        return '25th Percentile'\n",
    "    elif percentile_x <= percentile_values_hourly[1]:\n",
    "        return '50th Percentile'\n",
    "    elif percentile_x <= percentile_values_hourly[2]:\n",
    "        return '75th Percentile'\n",
    "    else:\n",
    "        return 'Above 75th Percentile'\n",
    "    \n",
    "# Function to assign percentile labels\n",
    "def assign_percentile_label_project(value):\n",
    "    percentile_y = np.percentile(value, per_project_threshold_pct)\n",
    "    if percentile_y <= percentile_values_project[0]:\n",
    "        return '25th Percentile'\n",
    "    elif percentile_y <= percentile_values_project[1]:\n",
    "        return '50th Percentile'\n",
    "    elif percentile_y <= percentile_values_project[2]:\n",
    "        return '75th Percentile'\n",
    "    else:\n",
    "        return 'Above 75th Percentile'\n",
    "    \n",
    "client_ranking['hourly_avg_percentile'] = client_ranking['client_hourly_average'].apply(assign_percentile_label_hourly)\n",
    "\n",
    "percentile_values_project = np.percentile(client_ranking['client_project_revenue_ratio'], percentiles)\n",
    "\n",
    "client_ranking['per_project_percentile'] = client_ranking['client_project_revenue_ratio'].apply(assign_percentile_label_project)\n",
    "\n",
    "# endregion\n",
    "\n",
    "# region Organize dataframes\n",
    "\n",
    "# Sort dataframe by ratios\n",
    "client_ranking = client_ranking.sort_values(by=['client_project_revenue_ratio', 'client_hourly_average'], ascending=False, ignore_index=True)\n",
    "\n",
    "# Create top_client column\n",
    "client_ranking['top_client'] = client_ranking['top_client_hourly'] & client_ranking['top_client_per_project']\n",
    "\n",
    "# Create dataframe of only top clients for dashboard\n",
    "top_clients = client_ranking[client_ranking['top_client'] == True].reset_index(drop=True)\n",
    "top_clients = top_clients[['client_id']]\n",
    "top_clients['ranking'] = top_clients.index + 1\n",
    "top_clients\n",
    "# endregion\n"
   ]
  },
  {
   "cell_type": "code",
   "execution_count": 9,
   "metadata": {},
   "outputs": [
    {
     "name": "stdout",
     "output_type": "stream",
     "text": [
      "<class 'pandas.core.frame.DataFrame'>\n",
      "RangeIndex: 244 entries, 0 to 243\n",
      "Data columns (total 33 columns):\n",
      " #   Column                     Non-Null Count  Dtype        \n",
      "---  ------                     --------------  -----        \n",
      " 0   fund_date                  119 non-null    datetime64[s]\n",
      " 1   start_date                 145 non-null    datetime64[s]\n",
      " 2   finish_date                207 non-null    datetime64[s]\n",
      " 3   price                      119 non-null    float64      \n",
      " 4   total_additional_payments  21 non-null     float64      \n",
      " 5   expenses                   16 non-null     float64      \n",
      " 6   total_after_fees           117 non-null    float64      \n",
      " 7   total_hours                147 non-null    float64      \n",
      " 8   status                     244 non-null    object       \n",
      " 9   project_type               243 non-null    object       \n",
      " 10  master_ownership           25 non-null     float64      \n",
      " 11  song_ownership             116 non-null    float64      \n",
      " 12  time_tracked               243 non-null    object       \n",
      " 13  soundbetter                243 non-null    object       \n",
      " 14  spec_project               243 non-null    object       \n",
      " 15  experienced_client         243 non-null    object       \n",
      " 16  difficult_client           243 non-null    object       \n",
      " 17  backend_belief             243 non-null    object       \n",
      " 18  backend_money_made         243 non-null    object       \n",
      " 19  sync_license               243 non-null    object       \n",
      " 20  fully_produced             223 non-null    object       \n",
      " 21  songwriter                 244 non-null    bool         \n",
      " 22  disco.ac                   5 non-null      object       \n",
      " 23  project_hourly             115 non-null    float64      \n",
      " 24  days_to_finish             111 non-null    float64      \n",
      " 25  days_to_start              117 non-null    float64      \n",
      " 26  client_id                  244 non-null    int32        \n",
      " 27  project_id                 244 non-null    int32        \n",
      " 28  hourly_ratio               115 non-null    float64      \n",
      " 29  per_project_ratio          117 non-null    float64      \n",
      " 30  hourly_avg_percentile      108 non-null    object       \n",
      " 31  per_project_percentile     108 non-null    object       \n",
      " 32  top_client                 108 non-null    object       \n",
      "dtypes: bool(1), datetime64[s](3), float64(12), int32(2), object(15)\n",
      "memory usage: 59.5+ KB\n"
     ]
    }
   ],
   "source": [
    "# Merge to original dataframe\n",
    "client_ranking_filtered = client_ranking[['client_id', 'hourly_avg_percentile', 'per_project_percentile', 'top_client']]\n",
    "project_hours_ranked = pd.merge(project_hours, client_ranking_filtered, how='left', on='client_id')\n",
    "project_hours_ranked.info()"
   ]
  },
  {
   "cell_type": "markdown",
   "metadata": {},
   "source": [
    "## How likely is a Soundbetter Client to be experienced?\n",
    "\n",
    "Null hypothesis: there is no association between a client being from Soundbetter and their experience level."
   ]
  },
  {
   "cell_type": "code",
   "execution_count": 5,
   "metadata": {},
   "outputs": [
    {
     "name": "stdout",
     "output_type": "stream",
     "text": [
      "The p-value is 8.600057337373808e-27\n"
     ]
    }
   ],
   "source": [
    "# Create crosstab\n",
    "Xtab = pd.crosstab(project_hours['soundbetter'], project_hours['experienced_client'])\n",
    "\n",
    "chi2, pval, dof, expected = chi2_contingency(Xtab)\n",
    "print(f'The p-value is {pval}')"
   ]
  },
  {
   "cell_type": "code",
   "execution_count": 6,
   "metadata": {},
   "outputs": [
    {
     "data": {
      "text/html": [
       "<div>\n",
       "<style scoped>\n",
       "    .dataframe tbody tr th:only-of-type {\n",
       "        vertical-align: middle;\n",
       "    }\n",
       "\n",
       "    .dataframe tbody tr th {\n",
       "        vertical-align: top;\n",
       "    }\n",
       "\n",
       "    .dataframe thead th {\n",
       "        text-align: right;\n",
       "    }\n",
       "</style>\n",
       "<table border=\"1\" class=\"dataframe\">\n",
       "  <thead>\n",
       "    <tr style=\"text-align: right;\">\n",
       "      <th>experienced_client</th>\n",
       "      <th>soundbetter</th>\n",
       "      <th>False</th>\n",
       "      <th>True</th>\n",
       "    </tr>\n",
       "  </thead>\n",
       "  <tbody>\n",
       "    <tr>\n",
       "      <th>0</th>\n",
       "      <td>False</td>\n",
       "      <td>0.078189</td>\n",
       "      <td>0.637860</td>\n",
       "    </tr>\n",
       "    <tr>\n",
       "      <th>1</th>\n",
       "      <td>True</td>\n",
       "      <td>0.234568</td>\n",
       "      <td>0.049383</td>\n",
       "    </tr>\n",
       "  </tbody>\n",
       "</table>\n",
       "</div>"
      ],
      "text/plain": [
       "experienced_client  soundbetter     False      True\n",
       "0                         False  0.078189  0.637860\n",
       "1                          True  0.234568  0.049383"
      ]
     },
     "execution_count": 6,
     "metadata": {},
     "output_type": "execute_result"
    }
   ],
   "source": [
    "Xtab = pd.crosstab(project_hours['soundbetter'], project_hours['experienced_client'], normalize = True).reset_index()\n",
    "Xtab"
   ]
  },
  {
   "cell_type": "code",
   "execution_count": 7,
   "metadata": {},
   "outputs": [],
   "source": [
    "# sns.scatterplot(x = 'experienced_client', y = 'soundbetter', data=project_hours)\n",
    "# plt.show()"
   ]
  },
  {
   "cell_type": "markdown",
   "metadata": {},
   "source": [
    "## Predicting Difficult Clients"
   ]
  },
  {
   "cell_type": "markdown",
   "metadata": {},
   "source": [
    "### K Nearest Neighbor Classifier"
   ]
  },
  {
   "cell_type": "code",
   "execution_count": 8,
   "metadata": {},
   "outputs": [
    {
     "ename": "NameError",
     "evalue": "name 'project_hours_tracked_paid' is not defined",
     "output_type": "error",
     "traceback": [
      "\u001b[1;31m---------------------------------------------------------------------------\u001b[0m",
      "\u001b[1;31mNameError\u001b[0m                                 Traceback (most recent call last)",
      "Cell \u001b[1;32mIn[8], line 7\u001b[0m\n\u001b[0;32m      1\u001b[0m \u001b[38;5;66;03m# pre-processing the data\u001b[39;00m\n\u001b[0;32m      2\u001b[0m \n\u001b[0;32m      3\u001b[0m \u001b[38;5;66;03m#make a copy of the dataframe\u001b[39;00m\n\u001b[0;32m      4\u001b[0m \n\u001b[0;32m      5\u001b[0m \u001b[38;5;66;03m# desired columns\u001b[39;00m\n\u001b[0;32m      6\u001b[0m column_list \u001b[38;5;241m=\u001b[39m [\u001b[38;5;124m'\u001b[39m\u001b[38;5;124mprice\u001b[39m\u001b[38;5;124m'\u001b[39m,\u001b[38;5;124m'\u001b[39m\u001b[38;5;124mproject_type\u001b[39m\u001b[38;5;124m'\u001b[39m, \u001b[38;5;124m'\u001b[39m\u001b[38;5;124msoundbetter\u001b[39m\u001b[38;5;124m'\u001b[39m, \u001b[38;5;124m'\u001b[39m\u001b[38;5;124msongwriter\u001b[39m\u001b[38;5;124m'\u001b[39m, \u001b[38;5;124m'\u001b[39m\u001b[38;5;124mexperienced_client\u001b[39m\u001b[38;5;124m'\u001b[39m, \u001b[38;5;124m'\u001b[39m\u001b[38;5;124mbackend_belief\u001b[39m\u001b[38;5;124m'\u001b[39m]\n\u001b[1;32m----> 7\u001b[0m client_difficulty_data \u001b[38;5;241m=\u001b[39m \u001b[43mproject_hours_tracked_paid\u001b[49m[column_list]\u001b[38;5;241m.\u001b[39mcopy()\n\u001b[0;32m      9\u001b[0m \u001b[38;5;66;03m# get labels array\u001b[39;00m\n\u001b[0;32m     10\u001b[0m client_difficulty_labels \u001b[38;5;241m=\u001b[39m np\u001b[38;5;241m.\u001b[39marray(project_hours_tracked_paid[\u001b[38;5;124m'\u001b[39m\u001b[38;5;124mdifficult_client\u001b[39m\u001b[38;5;124m'\u001b[39m])\n",
      "\u001b[1;31mNameError\u001b[0m: name 'project_hours_tracked_paid' is not defined"
     ]
    }
   ],
   "source": [
    "# pre-processing the data\n",
    "\n",
    "#make a copy of the dataframe\n",
    "\n",
    "# desired columns\n",
    "column_list = ['price','project_type', 'soundbetter', 'songwriter', 'experienced_client', 'backend_belief']\n",
    "client_difficulty_data = project_hours_tracked_paid[column_list].copy()\n",
    "\n",
    "# get labels array\n",
    "client_difficulty_labels = np.array(project_hours_tracked_paid['difficult_client'])\n",
    "# convert array to binary\n",
    "client_difficulty_labels = client_difficulty_labels.astype(int)\n",
    "\n",
    "#MinMax the 'price' column\n",
    "price_reshaped = np.array(client_difficulty_data['price']).reshape(-1,1)\n",
    "mmscaler = MinMaxScaler()\n",
    "\n",
    "# add column of normalized price back to dataframe\n",
    "client_difficulty_data['price_normalized'] = mmscaler.fit_transform(price_reshaped)\n",
    "\n"
   ]
  },
  {
   "cell_type": "code",
   "execution_count": null,
   "metadata": {},
   "outputs": [],
   "source": [
    "# one hot encode project type\n",
    "ohe = pd.get_dummies(client_difficulty_data['project_type'])\n",
    "client_difficulty_data = client_difficulty_data.join(ohe)"
   ]
  },
  {
   "cell_type": "code",
   "execution_count": null,
   "metadata": {},
   "outputs": [],
   "source": [
    "# cast boolean values as integers\n",
    "columns_to_cast_as_int = ['soundbetter', 'experienced_client', 'backend_belief', 'additional production',\n",
    "                          'full production', 'mastering', 'mixing', 'pre production', 'production tweak',\n",
    "                          'track production', 'vocal production', 'songwriter']\n",
    "\n",
    "client_difficulty_data[columns_to_cast_as_int] = client_difficulty_data[columns_to_cast_as_int].astype(int)\n",
    "\n",
    "# drop extra columns\n",
    "\n",
    "client_difficulty_data = client_difficulty_data.drop(['price', 'project_type'], axis=1)"
   ]
  },
  {
   "cell_type": "code",
   "execution_count": null,
   "metadata": {},
   "outputs": [
    {
     "name": "stdout",
     "output_type": "stream",
     "text": [
      "74 74\n"
     ]
    }
   ],
   "source": [
    "# Split the data\n",
    "training_data, validation_data, training_labels, validation_labels = train_test_split(client_difficulty_data, client_difficulty_labels, test_size=0.2, random_state=100)\n",
    "\n",
    "print(len(training_data), len(training_labels)) # verify the length is the same"
   ]
  },
  {
   "cell_type": "code",
   "execution_count": null,
   "metadata": {},
   "outputs": [
    {
     "name": "stdout",
     "output_type": "stream",
     "text": [
      "[0.7894736842105263, 0.8947368421052632, 0.8947368421052632, 0.8947368421052632, 0.7894736842105263, 0.8947368421052632, 0.8947368421052632, 0.8947368421052632, 0.8947368421052632, 0.8947368421052632, 0.8947368421052632, 0.8947368421052632, 0.8947368421052632, 0.8947368421052632, 0.8947368421052632, 0.8947368421052632, 0.8947368421052632, 0.8947368421052632, 0.8947368421052632]\n",
      "0.8947368421052632 2\n"
     ]
    },
    {
     "data": {
      "text/plain": [
       "\" Do I need more data for this model to be more effective? There are not a lot of data marked 'difficult client' which may be throwing it off\""
      ]
     },
     "execution_count": 115,
     "metadata": {},
     "output_type": "execute_result"
    }
   ],
   "source": [
    "scores = [] # initiate blank list\n",
    "\n",
    "for k in range(1,20): # loop through k from 1 to 100 and append the scores to the list\n",
    "    classifier = KNeighborsClassifier(n_neighbors = k) # create a classifier with k neighbors\n",
    "    classifier.fit(training_data, training_labels) # train the classifier\n",
    "    scores.append(classifier.score(validation_data, validation_labels)) # determine the accuracy of the trained classifier\n",
    "\n",
    "print(scores)\n",
    "\n",
    "max_score = max(scores) # determine the max score\n",
    "max_score_index = scores.index(max_score) # find the index of max score\n",
    "print(max_score, max_score_index + 1) # add 1 to index to find k value for max score\n",
    "\n",
    "''' Do I need more data for this model to be more effective? There are not a lot of data marked 'difficult client' which may be throwing it off'''"
   ]
  },
  {
   "cell_type": "markdown",
   "metadata": {},
   "source": []
  }
 ],
 "metadata": {
  "kernelspec": {
   "display_name": "base",
   "language": "python",
   "name": "python3"
  },
  "language_info": {
   "codemirror_mode": {
    "name": "ipython",
    "version": 3
   },
   "file_extension": ".py",
   "mimetype": "text/x-python",
   "name": "python",
   "nbconvert_exporter": "python",
   "pygments_lexer": "ipython3",
   "version": "3.10.13"
  },
  "orig_nbformat": 4
 },
 "nbformat": 4,
 "nbformat_minor": 2
}
